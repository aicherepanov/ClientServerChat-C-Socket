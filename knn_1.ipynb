{
  "nbformat": 4,
  "nbformat_minor": 0,
  "metadata": {
    "colab": {
      "name": "knn_1.ipynb",
      "provenance": [],
      "authorship_tag": "ABX9TyOYOuKZNpcpZIiv5JUp+Mcj",
      "include_colab_link": true
    },
    "kernelspec": {
      "name": "python3",
      "display_name": "Python 3"
    },
    "language_info": {
      "name": "python"
    }
  },
  "cells": [
    {
      "cell_type": "markdown",
      "metadata": {
        "id": "view-in-github",
        "colab_type": "text"
      },
      "source": [
        "<a href=\"https://colab.research.google.com/github/aicherepanov/ClientServerChat-C-Socket/blob/master/knn_1.ipynb\" target=\"_parent\"><img src=\"https://colab.research.google.com/assets/colab-badge.svg\" alt=\"Open In Colab\"/></a>"
      ]
    },
    {
      "cell_type": "markdown",
      "metadata": {
        "id": "1szmOngtImrQ"
      },
      "source": [
        "# Метод k-ближайших соседей (k-nearest neighbors algorithm)"
      ]
    },
    {
      "cell_type": "markdown",
      "metadata": {
        "id": "igaKrUBsIz8e"
      },
      "source": [
        "## Задание 1\n",
        "Реализуйте алгоритм K ближайших соседей для классификации. \n",
        "- Создайте искуственный набор данных из 100 наблюдений с 3 классами.\n",
        "- Реализуйте функцию, которая получает на вход тренировочный и тестовый наборы данных и $k$ - количество ближайших соседей, и возвращает метки тестового набора данных\n",
        "- Используйте евклидову меру\n",
        "- Если возникает неопределенность (например, все три соседа имею разные метки классов), то присвойте класс случайным образом\n",
        "- Проверьте качество классификации для различных параметров $k$ (1, 3, 5, 7, 9) метрикой Accuracy (доля правильных ответов)\n",
        "- Постройте разделающие поверхности классификатора\n",
        "**Алгоритм к ближайших соседей:**\n",
        "\n",
        "Для каждого объекта тестового набора данных:\n",
        "1. вычисление расстояний между всеми объектами тренировочного набора;\n",
        "2. определение $k$ наименьших расстояний;\n",
        "3. определение классов для $k$ найденных объектов;\n",
        "4. присваивание метки тестовому объекту класса, который превалирует среди найденных объектов.\n"
      ]
    }
  ]
}